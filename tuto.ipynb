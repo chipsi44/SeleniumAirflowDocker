{
 "cells": [
  {
   "attachments": {},
   "cell_type": "markdown",
   "metadata": {},
   "source": [
    "# The scrapping part\n",
    "\n",
    "## *First of all we are going to create a litlle scrapping programms.*"
   ]
  },
  {
   "attachments": {},
   "cell_type": "markdown",
   "metadata": {},
   "source": [
    "In the first places import webdriver from selenium.\n",
    "\n",
    "And connect a driver variable to this webpage : \"https://finance.yahoo.com/most-active?offset=0&count=100\""
   ]
  },
  {
   "cell_type": "code",
   "execution_count": null,
   "metadata": {},
   "outputs": [],
   "source": [
    "from selenium import webdriver\n",
    "\n",
    "\n",
    "driver = webdriver.Firefox()\n",
    "driver.get(\"https://finance.yahoo.com/most-active?offset=0&count=100\")"
   ]
  },
  {
   "cell_type": "markdown",
   "metadata": {},
   "source": []
  },
  {
   "cell_type": "code",
   "execution_count": null,
   "metadata": {},
   "outputs": [],
   "source": [
    "from selenium.webdriver.common.by import By\n",
    "\n",
    "scroll_button = driver.find_element(By.ID, \"scroll-down-btn\")\n",
    "scroll_button.click()\n",
    "\n",
    "cookie_button = driver.find_element(By.XPATH, \"//button[@class='btn secondary accept-all ' and @name='agree']\")\n",
    "cookie_button.click()"
   ]
  }
 ],
 "metadata": {
  "language_info": {
   "name": "python"
  },
  "orig_nbformat": 4
 },
 "nbformat": 4,
 "nbformat_minor": 2
}
