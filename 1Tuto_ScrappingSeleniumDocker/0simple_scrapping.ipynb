{
 "cells": [
  {
   "attachments": {},
   "cell_type": "markdown",
   "metadata": {},
   "source": [
    "# The scrapping part\n",
    "\n",
    "## *First of all we are going to create a litlle scrapping programms.*"
   ]
  },
  {
   "attachments": {},
   "cell_type": "markdown",
   "metadata": {},
   "source": [
    "In the first places import webdriver from selenium.\n",
    "\n",
    "And connect a driver variable to this webpage : \"https://finance.yahoo.com/most-active?offset=0&count=100\""
   ]
  },
  {
   "cell_type": "code",
   "execution_count": null,
   "metadata": {},
   "outputs": [],
   "source": []
  },
  {
   "attachments": {},
   "cell_type": "markdown",
   "metadata": {},
   "source": [
    "Firefox should open a webpage, don't close it. Once the webpage is open, you should be able to see a button to accept cookies.\n",
    "\n",
    "To complete this task, you will need to import By from the Selenium library and use it to find the cookies button element in the webpage.\n",
    "\n",
    "Tips : Don't forget to click the button, and you'll maybe need to find the scroll down button !"
   ]
  },
  {
   "cell_type": "code",
   "execution_count": null,
   "metadata": {},
   "outputs": [],
   "source": []
  },
  {
   "attachments": {},
   "cell_type": "markdown",
   "metadata": {},
   "source": [
    "Now that the cookies have been accepted, it's time for scraping!\n",
    "\n",
    "First of all, to create our CSV file, we will need the header. On the page, you can see that there is a header at the top of the stock data. Please retrieve the header from \"Name\" to \"PE Ratio (TTM)\" included. \n",
    "\n",
    "Create a list with the header and name it : my_header_list"
   ]
  },
  {
   "cell_type": "code",
   "execution_count": null,
   "metadata": {},
   "outputs": [],
   "source": []
  },
  {
   "attachments": {},
   "cell_type": "markdown",
   "metadata": {},
   "source": [
    "Print my_header_list"
   ]
  },
  {
   "cell_type": "code",
   "execution_count": null,
   "metadata": {},
   "outputs": [],
   "source": []
  },
  {
   "attachments": {},
   "cell_type": "markdown",
   "metadata": {},
   "source": [
    "Expected : ['Symbol', 'Name', 'Price (Intraday)', 'Change', '% Change', 'Volume', 'Avg Vol (3 month)', 'Market Cap', 'PE Ratio (TTM)']"
   ]
  },
  {
   "attachments": {},
   "cell_type": "markdown",
   "metadata": {},
   "source": [
    "It is now time to get the stock data. Since we have the header, we need to correlate it with the actual data. Please retrieve the 100 stock data points that are on the page and store them in a list called \"entreprise_stock_info_list\".\n",
    "\n",
    "Tip: \"entreprise_stock_info_list\" is a list that contains multiple lists! "
   ]
  },
  {
   "cell_type": "code",
   "execution_count": null,
   "metadata": {},
   "outputs": [],
   "source": []
  },
  {
   "attachments": {},
   "cell_type": "markdown",
   "metadata": {},
   "source": [
    "Now print : entreprise_stock_info_list"
   ]
  },
  {
   "cell_type": "code",
   "execution_count": null,
   "metadata": {},
   "outputs": [],
   "source": []
  },
  {
   "attachments": {},
   "cell_type": "markdown",
   "metadata": {},
   "source": [
    "Expected : [['CS', 'Credit Suisse Group AG', '2.1600', '-0.3500', '-13.94%', '422.265M', '29.199M', '9.671B', 'N/A', ''], ['TSLA', 'Tesla, Inc.', '180.45', '-2.81', '-1.53%', '145.996M', '184.604M', '579.564B', '47.86', ''], . . .]\n",
    "\n",
    "You can see that we have an unexpected element at the end of each list. We'll remove it later don't worry !"
   ]
  },
  {
   "attachments": {},
   "cell_type": "markdown",
   "metadata": {},
   "source": [
    "Let's now close and quit our driver"
   ]
  },
  {
   "cell_type": "code",
   "execution_count": null,
   "metadata": {},
   "outputs": [],
   "source": []
  },
  {
   "attachments": {},
   "cell_type": "markdown",
   "metadata": {},
   "source": [
    "__Scrapping finished__\n",
    "\n",
    "*Time to create the CSV*\n",
    "\n",
    "First step : Import pandas as pd\n",
    "Create a pandas dataframe with the entreprise_stock_info_list and my_header_list\n",
    "\n",
    "Tips : Don't forget to remove the last elements of each inner list in entreprise_stock_info_list"
   ]
  },
  {
   "cell_type": "code",
   "execution_count": null,
   "metadata": {},
   "outputs": [],
   "source": []
  },
  {
   "attachments": {},
   "cell_type": "markdown",
   "metadata": {},
   "source": [
    "Let's now convert it to a CSV -> data/simple_data.csv\n",
    "\n",
    "tips : ../data/simple_data.csv"
   ]
  },
  {
   "cell_type": "code",
   "execution_count": null,
   "metadata": {},
   "outputs": [],
   "source": []
  },
  {
   "attachments": {},
   "cell_type": "markdown",
   "metadata": {},
   "source": [
    "<img src=\"..\\img\\simpla_data_img.png\" alt=\"Image not found\" />"
   ]
  }
 ],
 "metadata": {
  "kernelspec": {
   "display_name": "Python 3",
   "language": "python",
   "name": "python3"
  },
  "language_info": {
   "codemirror_mode": {
    "name": "ipython",
    "version": 3
   },
   "file_extension": ".py",
   "mimetype": "text/x-python",
   "name": "python",
   "nbconvert_exporter": "python",
   "pygments_lexer": "ipython3",
   "version": "3.11.1"
  },
  "orig_nbformat": 4
 },
 "nbformat": 4,
 "nbformat_minor": 2
}
