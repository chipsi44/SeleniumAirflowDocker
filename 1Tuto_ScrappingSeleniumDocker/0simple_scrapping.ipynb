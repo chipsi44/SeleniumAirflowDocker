{
 "cells": [
  {
   "attachments": {},
   "cell_type": "markdown",
   "metadata": {},
   "source": [
    "# The scrapping part\n",
    "\n",
    "## *First of all we are going to create a litlle scrapping programms.*"
   ]
  },
  {
   "attachments": {},
   "cell_type": "markdown",
   "metadata": {},
   "source": [
    "In the first places import webdriver from selenium.\n",
    "\n",
    "And connect a driver variable to this webpage : \"https://finance.yahoo.com/most-active?offset=0&count=100\""
   ]
  },
  {
   "cell_type": "code",
   "execution_count": 1,
   "metadata": {},
   "outputs": [],
   "source": [
    "from selenium import webdriver\n",
    "\n",
    "\n",
    "driver = webdriver.Firefox()\n",
    "driver.get(\"https://finance.yahoo.com/most-active?offset=0&count=100\")"
   ]
  },
  {
   "attachments": {},
   "cell_type": "markdown",
   "metadata": {},
   "source": [
    "Firefox should open a webpage, don't close it. Once the webpage is open, you should be able to see a button to accept cookies.\n",
    "\n",
    "To complete this task, you will need to import By from the Selenium library and use it to find the cookies button element in the webpage.\n",
    "\n",
    "Tips : Don't forget to click the button, and you'll maybe need to find the scroll down button !"
   ]
  },
  {
   "cell_type": "code",
   "execution_count": 2,
   "metadata": {},
   "outputs": [],
   "source": [
    "from selenium.webdriver.common.by import By\n",
    "\n",
    "scroll_button = driver.find_element(By.ID, \"scroll-down-btn\")\n",
    "scroll_button.click()\n",
    "\n",
    "cookie_button = driver.find_element(By.XPATH, \"//button[@class='btn secondary accept-all ' and @name='agree']\")\n",
    "cookie_button.click()"
   ]
  },
  {
   "attachments": {},
   "cell_type": "markdown",
   "metadata": {},
   "source": [
    "Now that the cookies have been accepted, it's time for scraping!\n",
    "\n",
    "First of all, to create our CSV file, we will need the header. On the page, you can see that there is a header at the top of the stock data. Please retrieve the header from \"Name\" to \"PE Ratio (TTM)\" included. \n",
    "\n",
    "Create a list with the header and name it : my_header_list"
   ]
  },
  {
   "cell_type": "code",
   "execution_count": 3,
   "metadata": {},
   "outputs": [],
   "source": [
    "thead_element = driver.find_element(By.TAG_NAME,\"thead\")\n",
    "th_elem = thead_element.find_elements(By.TAG_NAME,\"th\")\n",
    "my_header_list = []\n",
    "for elem in th_elem[:-1] : \n",
    "    my_header_list.append(elem.text)"
   ]
  },
  {
   "attachments": {},
   "cell_type": "markdown",
   "metadata": {},
   "source": [
    "Print my_header_list"
   ]
  },
  {
   "cell_type": "code",
   "execution_count": 4,
   "metadata": {},
   "outputs": [
    {
     "name": "stdout",
     "output_type": "stream",
     "text": [
      "['Symbol', 'Name', 'Price (Intraday)', 'Change', '% Change', 'Volume', 'Avg Vol (3 month)', 'Market Cap', 'PE Ratio (TTM)']\n"
     ]
    }
   ],
   "source": [
    "print(my_header_list)"
   ]
  },
  {
   "attachments": {},
   "cell_type": "markdown",
   "metadata": {},
   "source": [
    "Expected : ['Symbol', 'Name', 'Price (Intraday)', 'Change', '% Change', 'Volume', 'Avg Vol (3 month)', 'Market Cap', 'PE Ratio (TTM)']"
   ]
  },
  {
   "attachments": {},
   "cell_type": "markdown",
   "metadata": {},
   "source": [
    "It is now time to get the stock data. Since we have the header, we need to correlate it with the actual data. Please retrieve the 100 stock data points that are on the page and store them in a list called \"entreprise_stock_info_list\".\n",
    "\n",
    "Tip: \"entreprise_stock_info_list\" is a list that contains multiple lists! "
   ]
  },
  {
   "cell_type": "code",
   "execution_count": 5,
   "metadata": {},
   "outputs": [],
   "source": [
    "tbody_element = driver.find_element(By.TAG_NAME,\"tbody\")\n",
    "tr_elem_from_tbody  = tbody_element.find_elements(By.TAG_NAME,\"tr\")\n",
    "entreprise_stock_info_list = []\n",
    "for selenium_elem_tr in tr_elem_from_tbody :\n",
    "    td_elem_in_tr = selenium_elem_tr.find_elements(By.TAG_NAME,\"td\")\n",
    "    entreprise_stock_info_list.append([])\n",
    "    for selenium_elem_td in td_elem_in_tr :\n",
    "        entreprise_stock_info_list[-1].append(selenium_elem_td.text)"
   ]
  },
  {
   "attachments": {},
   "cell_type": "markdown",
   "metadata": {},
   "source": [
    "Now print : entreprise_stock_info_list"
   ]
  },
  {
   "cell_type": "code",
   "execution_count": 6,
   "metadata": {},
   "outputs": [
    {
     "name": "stdout",
     "output_type": "stream",
     "text": [
      "[['CS', 'Credit Suisse Group AG', '2.1600', '-0.3500', '-13.94%', '422.265M', '29.199M', '9.671B', 'N/A', ''], ['TSLA', 'Tesla, Inc.', '180.45', '-2.81', '-1.53%', '145.996M', '184.604M', '579.564B', '47.86', ''], ['BAC', 'Bank of America Corporation', '28.49', '-0.27', '-0.94%', '130.95M', '45.96M', '227.899B', '8.85', ''], ['F', 'Ford Motor Company', '11.71', '-0.22', '-1.84%', '107.025M', '65.232M', '47.555B', 'N/A', ''], ['FRC', 'First Republic Bank', '31.16', '-8.47', '-21.37%', '95.937M', '8.409M', '5.803B', '2.98', ''], ['SCHW', 'The Charles Schwab Corporation', '59.55', '+2.87', '+5.06%', '86.538M', '15.231M', '108.912B', '15.59', ''], ['AMD', 'Advanced Micro Devices, Inc.', '89.68', '+2.23', '+2.55%', '86.177M', '57.046M', '144.509B', '103.08', ''], ['HBAN', 'Huntington Bancshares Incorporated', '10.85', '-0.20', '-1.81%', '71.166M', '16.441M', '15.729B', '7.59', ''], ['ITUB', 'Itaú Unibanco Holding S.A.', '4.4100', '-0.0700', '-1.56%', '65.813M', '31.57M', '43.107B', '7.60', ''], ['AAPL', 'Apple Inc.', '152.99', '+0.40', '+0.26%', '77.168M', '70.671M', '2.421T', '25.63', ''], ['KEY', 'KeyCorp', '11.75', '-0.42', '-3.45%', '58.233M', '15.509M', '10.949B', '5.73', ''], ['AMZN', 'Amazon.com, Inc.', '96.20', '+1.32', '+1.39%', '70.732M', '69.769M', '985.79B', 'N/A', ''], ['RIG', 'Transocean Ltd.', '5.82', '-0.57', '-8.92%', '53.905M', '23.765M', '4.227B', 'N/A', ''], ['NVDA', 'NVIDIA Corporation', '242.28', '+1.65', '+0.69%', '52.449M', '48.22M', '603.762B', '103.10', ''], ['CCL', 'Carnival Corporation & plc', '8.73', '-0.34', '-3.75%', '54.373M', '39.111M', '11.346B', 'N/A', ''], ['GOOGL', 'Alphabet Inc.', '96.11', '+2.14', '+2.28%', '50.622M', '37.669M', '1.203T', '20.19', ''], ['NYCB', 'New York Community Bancorp, Inc.', '6.96', '+0.49', '+7.57%', '49.583M', '10.813M', '4.753B', '5.48', ''], ['INTC', 'Intel Corporation', '28.41', '+0.40', '+1.43%', '49.323M', '42.8M', '117.532B', '14.06', ''], ['BBD', 'Banco Bradesco S.A.', '2.5700', '+0.0200', '+0.78%', '47.598M', '36.032M', '27.35B', '7.14', ''], ['MSFT', 'Microsoft Corporation', '265.44', '+4.65', '+1.78%', '46.028M', '30.506M', '1.976T', '28.76', ''], ['RIVN', 'Rivian Automotive, Inc.', '13.03', '-0.18', '-1.36%', '43.498M', '31.242M', '11.511B', 'N/A', ''], ['WFC', 'Wells Fargo & Company', '38.85', '-1.32', '-3.29%', '47.041M', '20.608M', '147.392B', '11.84', ''], ['APE', 'AMC Entertainment Holdings, Inc.', '1.4200', '-0.2200', '-13.41%', '42.192M', '34.941M', '4.641B', 'N/A', ''], ['META', 'Meta Platforms, Inc.', '197.75', '+3.73', '+1.92%', '42.124M', '31.651M', '512.695B', '21.45', ''], ['C', 'Citigroup Inc.', '44.82', '-2.58', '-5.44%', '40.98M', '19.023M', '92.132B', '6.29', ''], ['SWN', 'Southwestern Energy Company', '4.7200', '-0.1600', '-3.28%', '40.019M', '25.05M', '5.192B', '2.95', ''], ['PBR', 'Petróleo Brasileiro S.A. - Petrobras', '9.98', '-0.27', '-2.63%', '39.631M', '24.387M', '65.091B', '1.92', ''], ['NIO', 'NIO Inc.', '8.25', '-0.17', '-2.02%', '39.795M', '45.902M', '14.165B', 'N/A', ''], ['AAL', 'American Airlines Group Inc.', '13.86', '-0.80', '-5.46%', '41.102M', '25.171M', '9.029B', '77.00', ''], ['TFC', 'Truist Financial Corporation', '32.10', '+0.22', '+0.69%', '38.263M', '8.811M', '42.633B', '7.20', ''], ['GOLD', 'Barrick Gold Corporation', '17.48', '+0.41', '+2.40%', '38.581M', '18.308M', '30.684B', '72.83', ''], ['GOOG', 'Alphabet Inc.', '96.55', '+2.30', '+2.44%', '38.367M', '30.089M', '1.205T', '20.76', ''], ['AMC', 'AMC Entertainment Holdings, Inc.', '4.2100', '-0.4300', '-9.27%', '35.728M', '35.861M', '2.161B', 'N/A', ''], ['FITB', 'Fifth Third Bancorp', '25.41', '-0.97', '-3.68%', '37.813M', '6.979M', '17.306B', '9.74', ''], ['SOFI', 'SoFi Technologies, Inc.', '5.41', '-0.14', '-2.52%', '34.123M', '38.112M', '4.326B', 'N/A', ''], ['USB', 'U.S. Bancorp', '35.44', '-2.07', '-5.52%', '33.085M', '9.252M', '54.287B', '9.35', ''], ['VALE', 'Vale S.A.', '15.42', '-0.52', '-3.26%', '32.911M', '22.233M', '70.088B', '4.31', ''], ['LUMN', 'Lumen Technologies, Inc.', '2.5900', '-0.0100', '-0.38%', '31.862M', '29.865M', '2.593B', 'N/A', ''], ['WAL', 'Western Alliance Bancorporation', '32.35', '+2.48', '+8.30%', '32.352M', '3.775M', '3.546B', '6.97', ''], ['RF', 'Regions Financial Corporation', '17.65', '-1.31', '-6.91%', '30.654M', '8.827M', '16.495B', '7.71', ''], ['OXY', 'Occidental Petroleum Corporation', '56.80', '-3.39', '-5.63%', '29.893M', '12.873M', '51.124B', '4.50', ''], ['BCS', 'Barclays PLC', '6.79', '-0.61', '-8.24%', '30.124M', '5.23M', '29.368B', '5.22', ''], ['JPM', 'JPMorgan Chase & Co.', '128.26', '-6.36', '-4.72%', '33.67M', '11.492M', '377.515B', '11.13', ''], ['DIDIY', 'DiDi Global Inc.', '3.6300', '-0.1000', '-2.68%', '29.703M', '14.055M', '17.62B', 'N/A', ''], ['T', 'AT&T Inc.', '18.31', '-0.13', '-0.70%', '33.319M', '33.367M', '130.548B', 'N/A', ''], ['MPW', 'Medical Properties Trust, Inc.', '8.15', '-0.08', '-0.97%', '30.331M', '16.34M', '4.876B', '5.66', ''], ['ET', 'Energy Transfer LP', '11.94', '-0.40', '-3.24%', '28.743M', '13.812M', '36.949B', '8.78', ''], ['UBER', 'Uber Technologies, Inc.', '31.97', '-0.39', '-1.21%', '24.988M', '24.914M', '64.257B', 'N/A', ''], ['NOK', 'Nokia Oyj', '4.4900', '-0.1900', '-4.06%', '27.552M', '17.417M', '25.257B', '5.83', ''], ['FCX', 'Freeport-McMoRan Inc.', '35.51', '-2.53', '-6.65%', '26.032M', '12.104M', '50.804B', '15.92', ''], ['PLTR', 'Palantir Technologies Inc.', '7.90', '+0.01', '+0.13%', '27.228M', '43.568M', '16.601B', 'N/A', ''], ['XOM', 'Exxon Mobil Corporation', '101.62', '-5.32', '-4.97%', '25.717M', '15.629M', '413.693B', '7.63', ''], ['PFE', 'Pfizer Inc.', '40.28', '+0.38', '+0.95%', '25.294M', '21.812M', '226.336B', '7.36', ''], ['AGNC', 'AGNC Investment Corp.', '9.89', '-0.37', '-3.61%', '26.016M', '11.723M', '5.688B', 'N/A', ''], ['KMI', 'Kinder Morgan, Inc.', '16.58', '-0.36', '-2.13%', '23.755M', '12.478M', '37.272B', '14.67', ''], ['UNVR', 'Univar Solutions Inc.', '34.70', '-0.21', '-0.60%', '23.542M', '1.852M', '5.487B', '10.21', ''], ['HAL', 'Halliburton Company', '30.41', '-3.01', '-9.01%', '23.268M', '8.603M', '27.494B', '17.58', ''], ['DVN', 'Devon Energy Corporation', '45.12', '-4.10', '-8.33%', '23.084M', '9.829M', '29.508B', '5.40', ''], ['LYG', 'Lloyds Banking Group plc', '2.2200', '-0.0800', '-3.48%', '22.878M', '8.61M', '39.41B', '6.53', ''], ['WU', 'The Western Union Company', '10.77', '+0.43', '+4.16%', '23.181M', '7.651M', '4.024B', '4.70', ''], ['SNAP', 'Snap Inc.', '10.34', '-0.03', '-0.29%', '19.87M', '32.45M', '16.351B', 'N/A', ''], ['LYFT', 'Lyft, Inc.', '8.99', '+0.48', '+5.64%', '24.831M', '19.213M', '3.399B', 'N/A', ''], ['AFRM', 'Affirm Holdings, Inc.', '9.84', '-0.17', '-1.70%', '21.859M', '18.852M', '2.893B', 'N/A', ''], ['VZ', 'Verizon Communications Inc.', '37.06', '+0.18', '+0.49%', '20.857M', '21.346M', '155.648B', '7.25', ''], ['KO', 'The Coca-Cola Company', '60.43', '+0.40', '+0.67%', '20.807M', '13.103M', '261.439B', '27.34', ''], ['COIN', 'Coinbase Global, Inc.', '64.47', '+1.82', '+2.91%', '20.826M', '18.447M', '16.885B', '6.59', ''], ['SIRI', 'Sirius XM Holdings Inc.', '3.6400', '+0.1300', '+3.70%', '21.243M', '16.17M', '14.161B', '12.13', ''], ['NU', 'Nu Holdings Ltd.', '4.4400', '-0.0400', '-0.89%', '20.303M', '27.403M', '20.804B', 'N/A', ''], ['BABA', 'Alibaba Group Holding Limited', '81.51', '-2.34', '-2.79%', '20.821M', '20.871M', '211.098B', '48.23', ''], ['NCLH', 'Norwegian Cruise Line Holdings Ltd.', '12.91', '-0.44', '-3.30%', '21.258M', '14.288M', '5.447B', 'N/A', ''], ['DNA', 'Ginkgo Bioworks Holdings, Inc.', '1.3300', '-0.0200', '-1.48%', '20.296M', '21.103M', '2.757B', 'N/A', ''], ['PCG', 'PG&E Corporation', '15.86', '-0.13', '-0.81%', '19.117M', '13.606M', '36.136B', '19.11', ''], ['PLUG', 'Plug Power Inc.', '11.80', '-0.36', '-2.96%', '19.619M', '17.022M', '7.002B', 'N/A', ''], ['AUY', 'Yamana Gold Inc.', '5.51', '-0.04', '-0.72%', '16.099M', '12.269M', '5.321B', '20.41', ''], ['MRVL', 'Marvell Technology, Inc.', '37.62', '-0.99', '-2.56%', '18.999M', '11.912M', '32.237B', 'N/A', ''], ['DAL', 'Delta Air Lines, Inc.', '33.23', '-2.24', '-6.32%', '18.56M', '9.749M', '21.308B', '17.31', ''], ['BP', 'BP p.l.c.', '35.85', '-2.40', '-6.27%', '18.632M', '9.412M', '115.656B', 'N/A', ''], ['IBN', 'ICICI Bank Limited', '19.80', '-0.62', '-3.04%', '18.267M', '7.359M', '70.335B', '18.68', ''], ['GGB', 'Gerdau S.A.', '4.8000', '-0.3116', '-6.10%', '18.095M', '9.82M', '8.203B', '3.04', ''], ['SLB', 'Schlumberger Limited', '45.32', '-4.04', '-8.18%', '17.758M', '8.92M', '64.699B', '20.69', ''], ['GM', 'General Motors Company', '34.33', '-1.27', '-3.57%', '17.921M', '15.152M', '47.878B', '5.95', ''], ['LCID', 'Lucid Group, Inc.', '7.40', '-0.14', '-1.86%', '17.736M', '31.662M', '13.546B', 'N/A', ''], ['MRO', 'Marathon Oil Corporation', '21.26', '-1.97', '-8.48%', '19.041M', '10.004M', '13.386B', '4.00', ''], ['CSCO', 'Cisco Systems, Inc.', '49.06', '+0.01', '+0.02%', '17.355M', '17.267M', '200.941B', '17.71', ''], ['CTRA', 'Coterra Energy Inc.', '22.78', '-1.54', '-6.33%', '17.04M', '8.818M', '17.501B', '4.41', ''], ['RBLX', 'Roblox Corporation', '42.72', '-0.47', '-1.09%', '16.785M', '13.359M', '25.851B', 'N/A', ''], ['CVT', 'Cvent Holding Corp.', '8.34', '-0.02', '-0.24%', '16.952M', '1.049M', '4.078B', 'N/A', ''], ['CFG', 'Citizens Financial Group, Inc.', '31.51', '-0.39', '-1.22%', '16.77M', '4.589M', '15.261B', '7.38', ''], ['HPE', 'Hewlett Packard Enterprise Company', '13.91', '-0.23', '-1.63%', '16.472M', '13.155M', '18.026B', '21.73', ''], ['KGC', 'Kinross Gold Corporation', '3.8200', '0.0000', '0.00%', '17.287M', '13.881M', '4.679B', '191.00', ''], ['RUN', 'Sunrun Inc.', '19.67', '-0.68', '-3.34%', '16.669M', '7.651M', '4.218B', '28.51', ''], ['UAL', 'United Airlines Holdings, Inc.', '43.14', '-3.07', '-6.64%', '16.641M', '8.47M', '14.111B', '21.79', ''], ['CLF', 'Cleveland-Cliffs Inc.', '17.66', '-1.72', '-8.88%', '16.159M', '10.846M', '9.091B', '7.48', ''], ['SHOP', 'Shopify Inc.', '43.54', '-0.26', '-0.59%', '16.59M', '20.199M', '55.583B', 'N/A', ''], ['STNE', 'StoneCo Ltd.', '9.20', '+0.11', '+1.21%', '15.942M', '4.911M', '2.876B', 'N/A', ''], ['LU', 'Lufax Holding Ltd', '1.8800', '-0.1000', '-5.05%', '15.699M', '16.486M', '4.309B', '3.55', ''], ['CMCSA', 'Comcast Corporation', '35.89', '+0.61', '+1.73%', '20.503M', '19.633M', '151.314B', '29.18', ''], ['S', 'SentinelOne, Inc.', '15.54', '+1.07', '+7.39%', '15.124M', '5.353M', '4.393B', 'N/A', ''], ['FHN', 'First Horizon Corporation', '15.68', '-0.62', '-3.80%', '15.276M', '6.267M', '8.426B', '10.67', ''], ['BTG', 'B2Gold Corp.', '3.5000', '-0.0300', '-0.85%', '15.062M', '9.302M', '3.764B', '14.58', '']]\n"
     ]
    }
   ],
   "source": [
    "print(entreprise_stock_info_list)"
   ]
  },
  {
   "attachments": {},
   "cell_type": "markdown",
   "metadata": {},
   "source": [
    "Expected : [['CS', 'Credit Suisse Group AG', '2.1600', '-0.3500', '-13.94%', '422.265M', '29.199M', '9.671B', 'N/A', ''], ['TSLA', 'Tesla, Inc.', '180.45', '-2.81', '-1.53%', '145.996M', '184.604M', '579.564B', '47.86', ''], . . .]\n",
    "\n",
    "You can see that we have an unexpected element at the end of each list. We'll remove it later don't worry !"
   ]
  },
  {
   "attachments": {},
   "cell_type": "markdown",
   "metadata": {},
   "source": [
    "Let's now close and quit our driver"
   ]
  },
  {
   "cell_type": "code",
   "execution_count": 7,
   "metadata": {},
   "outputs": [],
   "source": [
    "driver.close()\n",
    "driver.quit()"
   ]
  },
  {
   "attachments": {},
   "cell_type": "markdown",
   "metadata": {},
   "source": [
    "__Scrapping finished__\n",
    "\n",
    "*Time to create the CSV*\n",
    "\n",
    "First step : Import pandas as pd\n",
    "Create a pandas dataframe with the entreprise_stock_info_list and my_header_list\n",
    "\n",
    "Tips : Don't forget to remove the last elements of each inner list in entreprise_stock_info_list"
   ]
  },
  {
   "cell_type": "code",
   "execution_count": 8,
   "metadata": {},
   "outputs": [],
   "source": [
    "import pandas as pd\n",
    "for elem in entreprise_stock_info_list :\n",
    "        elem.pop()  # remove the last element of each inner list\n",
    "df = pd.DataFrame(data=entreprise_stock_info_list, columns=my_header_list)"
   ]
  },
  {
   "attachments": {},
   "cell_type": "markdown",
   "metadata": {},
   "source": [
    "Let's now convert it to a CSV -> data/simple_data.csv\n",
    "\n",
    "tips : ../data/simple_data.csv"
   ]
  },
  {
   "cell_type": "code",
   "execution_count": 11,
   "metadata": {},
   "outputs": [],
   "source": [
    "df.to_csv(\"../data/simple_data.csv\", index=False)"
   ]
  },
  {
   "attachments": {},
   "cell_type": "markdown",
   "metadata": {},
   "source": [
    "<img src=\"..\\img\\simpla_data_img.png\" alt=\"Alternative text\" />"
   ]
  }
 ],
 "metadata": {
  "kernelspec": {
   "display_name": "Python 3",
   "language": "python",
   "name": "python3"
  },
  "language_info": {
   "codemirror_mode": {
    "name": "ipython",
    "version": 3
   },
   "file_extension": ".py",
   "mimetype": "text/x-python",
   "name": "python",
   "nbconvert_exporter": "python",
   "pygments_lexer": "ipython3",
   "version": "3.11.1"
  },
  "orig_nbformat": 4
 },
 "nbformat": 4,
 "nbformat_minor": 2
}
