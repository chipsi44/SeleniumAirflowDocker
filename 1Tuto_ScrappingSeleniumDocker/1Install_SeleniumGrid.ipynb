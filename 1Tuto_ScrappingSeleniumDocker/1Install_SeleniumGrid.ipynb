{
 "cells": [
  {
   "attachments": {},
   "cell_type": "markdown",
   "metadata": {},
   "source": [
    "# Install and work with Selenium grid\n",
    "\n",
    "__*What's Selenium grid ?*__\n",
    "\n",
    "&nbsp;&nbsp;&nbsp;&nbsp;Using Selenium Grid with Docker provides a scalable and efficient solution for running automated tests or web scraping tasks across multiple environments. Docker enables the creation of lightweight, isolated containers that can be easily deployed and managed. By integrating Selenium Grid with Docker, users can easily distribute tests or web scraping tasks across multiple containers, each running on different operating systems and browsers."
   ]
  },
  {
   "attachments": {},
   "cell_type": "markdown",
   "metadata": {},
   "source": [
    "__*Install docker desktop*__\n",
    "\n",
    "At this point, you should already have Docker Desktop installed. However, if you do not have it installed, you can download it from this [link](https://www.docker.com/products/docker-desktop/).\n",
    "\n",
    "For windows users don't forget to update wsl"
   ]
  },
  {
   "attachments": {},
   "cell_type": "markdown",
   "metadata": {},
   "source": [
    "__*Pull selenium grid images*__\n",
    "\n",
    "Inside a terminal use this command : docker pull selenium/standalone-firefox\n",
    "\n",
    "Now you should be able to see the image on your docker desktop"
   ]
  },
  {
   "attachments": {},
   "cell_type": "markdown",
   "metadata": {},
   "source": [
    "__*Run selenium grid*__\n",
    "\n",
    "Run this command : docker run -d --name selenium-container -p 4444:4444 selenium/standalone-firefox:latest \n",
    "\n",
    "And try to access : http://localhost:4444/ui\n",
    "\n",
    "You should be able to see the selenium grid web interface !"
   ]
  }
 ],
 "metadata": {
  "language_info": {
   "name": "python"
  },
  "orig_nbformat": 4
 },
 "nbformat": 4,
 "nbformat_minor": 2
}
