{
 "cells": [
  {
   "attachments": {},
   "cell_type": "markdown",
   "metadata": {},
   "source": [
    "# __Let's work all together__\n",
    "\n",
    "### *Now that we have all the setup we need, it's time to launch everything and make it work together.*"
   ]
  },
  {
   "attachments": {},
   "cell_type": "markdown",
   "metadata": {},
   "source": [
    "__The first step is to create a Docker network !__\n",
    "\n",
    "Create a Docker network named \"my-network\". (Find the command yourself and execute it in a terminall)"
   ]
  },
  {
   "attachments": {},
   "cell_type": "markdown",
   "metadata": {},
   "source": [
    "docker network create my-network   "
   ]
  },
  {
   "attachments": {},
   "cell_type": "markdown",
   "metadata": {},
   "source": [
    "__Second step is to build our images for Airflow web interfaces !__\n",
    "\n",
    "Build a docker image named \"my_airflow_container:latest\". (Find the command yourself and execute it in a terminal)"
   ]
  },
  {
   "attachments": {},
   "cell_type": "markdown",
   "metadata": {},
   "source": [
    "docker build -t my_airflow_container:latest ."
   ]
  },
  {
   "attachments": {},
   "cell_type": "markdown",
   "metadata": {},
   "source": [
    "__Third step is to run our Selenium and Airflow inside the same network__\n",
    "\n",
    "To do that, you'll need to stop and delete the containers that are currently running the Selenium web interface. (DO NOT DELETE THE IMAGE.)\n",
    "\n",
    "Once that's done, we can run the Selenium and Airflow Docker containers inside the same network!\n",
    "\n",
    "To do this, you'll need to find the command for running containers inside a network, and then run both containers inside the same network.\n",
    "(Find the command yourself and execute it in a terminal)"
   ]
  },
  {
   "attachments": {},
   "cell_type": "markdown",
   "metadata": {},
   "source": [
    "docker run -d --network my-network --name monapp-container -p 8080:8080 my_airflow_container:latest     \n",
    "docker run -d --network my-network --name selenium-container -p 4444:4444 selenium/standalone-firefox:late\n"
   ]
  },
  {
   "attachments": {},
   "cell_type": "markdown",
   "metadata": {},
   "source": [
    "__Verification__\n",
    "\n",
    "To see if everything is working, access both localhost:8080 and localhost:4444 in your web browser. You should be able to see the Airflow web interface and the Selenium Grid interface!\n"
   ]
  },
  {
   "attachments": {},
   "cell_type": "markdown",
   "metadata": {},
   "source": [
    "__Fourth step : Airflow webinterface__\n",
    "\n",
    "In the Airflow web interface, you should be able to see the DAG that you created with the given name, and your name as the owner of the DAG. If you click on the DAG, you will arrive on a page where you can manage your DAG.\n",
    "\n",
    "On the top right of the page, you can see that you can manually trigger the DAG by clicking on the \"Start\" button. Let's click on it and see what happens!"
   ]
  },
  {
   "attachments": {},
   "cell_type": "markdown",
   "metadata": {},
   "source": [
    "__Is it working ?__\n",
    "\n",
    "So you know should be ablle to see a graphs with the status of your DAG, it should be green and then turn dark green. If for some reasons it turn orange or red you can check at the logs of your DAG to see what's wrong.\n",
    "\n",
    "If has turned dark grey you can try to extract the file from the docker containers to your local machine. (Find the command yourself and execute it in a terminal).                               "
   ]
  },
  {
   "attachments": {},
   "cell_type": "markdown",
   "metadata": {},
   "source": [
    "docker cp monapp-container:/app/dags/data/financeYahoo_dataframe.csv ./data  "
   ]
  },
  {
   "attachments": {},
   "cell_type": "markdown",
   "metadata": {},
   "source": [
    "__If you have the file on your local machine then it's finished !__"
   ]
  }
 ],
 "metadata": {
  "language_info": {
   "name": "python"
  },
  "orig_nbformat": 4
 },
 "nbformat": 4,
 "nbformat_minor": 2
}
