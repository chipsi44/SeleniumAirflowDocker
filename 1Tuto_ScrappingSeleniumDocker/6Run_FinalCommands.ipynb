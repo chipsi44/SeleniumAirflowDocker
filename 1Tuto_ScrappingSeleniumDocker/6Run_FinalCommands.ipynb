{
 "cells": [
  {
   "attachments": {},
   "cell_type": "markdown",
   "metadata": {},
   "source": [
    "# __Let's work all together__\n",
    "\n",
    "### *Now that we have all the setup we need, it's time to launch everything and make it work together.*"
   ]
  },
  {
   "attachments": {},
   "cell_type": "markdown",
   "metadata": {},
   "source": [
    "__The first step is to create a Docker network !__\n",
    "\n",
    "Create a Docker network named \"my-network\". (Find the command yourself and execute it in a terminall)"
   ]
  },
  {
   "attachments": {},
   "cell_type": "markdown",
   "metadata": {},
   "source": [
    "docker network create my-network   "
   ]
  },
  {
   "attachments": {},
   "cell_type": "markdown",
   "metadata": {},
   "source": [
    "__Second step is to build our images for Airflow web interfaces !__\n",
    "\n",
    "Build a docker image named \"my_airflow_container:latest\". (Find the command yourself and execute it in a terminal)"
   ]
  }
 ],
 "metadata": {
  "language_info": {
   "name": "python"
  },
  "orig_nbformat": 4
 },
 "nbformat": 4,
 "nbformat_minor": 2
}
