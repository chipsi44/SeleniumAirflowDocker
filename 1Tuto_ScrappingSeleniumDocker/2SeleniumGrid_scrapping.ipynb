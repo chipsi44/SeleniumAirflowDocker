{
 "cells": [
  {
   "attachments": {},
   "cell_type": "markdown",
   "metadata": {},
   "source": [
    "# Working with Selenium grid and scrapping on firefox\n",
    "\n",
    "__Now that you have selenium grid let's see how to interact with it__"
   ]
  },
  {
   "attachments": {},
   "cell_type": "markdown",
   "metadata": {},
   "source": [
    "Let's connect our driver to the Selenium grid"
   ]
  },
  {
   "cell_type": "code",
   "execution_count": null,
   "metadata": {},
   "outputs": [],
   "source": [
    "from selenium import webdriver\n",
    "from selenium.webdriver.common.by import By\n",
    "options = webdriver.FirefoxOptions()\n",
    "options.accept_insecure_certs = True\n",
    "driver = webdriver.Remote(\n",
    "command_executor='http://selenium-container:4444/wd/hub',\n",
    "options=options\n",
    ")\n",
    "#Help to get less crash to connection timeout\n",
    "driver.set_page_load_timeout(60)\n",
    "#Connect to the link\n",
    "driver.get('https://finance.yahoo.com/most-active?offset=0&count=100')"
   ]
  },
  {
   "attachments": {},
   "cell_type": "markdown",
   "metadata": {},
   "source": [
    "If you run the code you can see that it generate an error ! It's because this code also need to be run in a docker containers ! But before running the code in a docker containers let's create a DAG to make it work with airflows ! "
   ]
  }
 ],
 "metadata": {
  "kernelspec": {
   "display_name": "Python 3",
   "language": "python",
   "name": "python3"
  },
  "language_info": {
   "codemirror_mode": {
    "name": "ipython",
    "version": 3
   },
   "file_extension": ".py",
   "mimetype": "text/x-python",
   "name": "python",
   "nbconvert_exporter": "python",
   "pygments_lexer": "ipython3",
   "version": "3.11.1"
  },
  "orig_nbformat": 4
 },
 "nbformat": 4,
 "nbformat_minor": 2
}
